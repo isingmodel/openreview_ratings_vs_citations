{
 "cells": [
  {
   "cell_type": "code",
   "execution_count": 8,
   "id": "962bb486",
   "metadata": {},
   "outputs": [],
   "source": [
    "import utils\n",
    "import pandas as pd\n",
    "import json\n",
    "import pickle as pkl"
   ]
  },
  {
   "cell_type": "markdown",
   "id": "b8e9f129",
   "metadata": {},
   "source": [
    "### Loading hdf5 format openreview data"
   ]
  },
  {
   "cell_type": "code",
   "execution_count": 2,
   "id": "bd4c8d74",
   "metadata": {},
   "outputs": [],
   "source": [
    "openreview_path = \"./data/ICLR2020/openreview_iclr2020.hdf5\"\n",
    "scholar_path = \"./data/ICLR2020/googlescholar_iclr2020_220415.json\""
   ]
  },
  {
   "cell_type": "code",
   "execution_count": 3,
   "id": "ba59dd54",
   "metadata": {},
   "outputs": [],
   "source": [
    "openreview_df = utils.parsing_openreview_hdf5(openreview_path)"
   ]
  },
  {
   "cell_type": "code",
   "execution_count": 4,
   "id": "67ea628a",
   "metadata": {},
   "outputs": [
    {
     "data": {
      "text/html": [
       "<div>\n",
       "<style scoped>\n",
       "    .dataframe tbody tr th:only-of-type {\n",
       "        vertical-align: middle;\n",
       "    }\n",
       "\n",
       "    .dataframe tbody tr th {\n",
       "        vertical-align: top;\n",
       "    }\n",
       "\n",
       "    .dataframe thead th {\n",
       "        text-align: right;\n",
       "    }\n",
       "</style>\n",
       "<table border=\"1\" class=\"dataframe\">\n",
       "  <thead>\n",
       "    <tr style=\"text-align: right;\">\n",
       "      <th></th>\n",
       "      <th>rating</th>\n",
       "      <th>decision</th>\n",
       "      <th>title</th>\n",
       "      <th>mean_rating</th>\n",
       "      <th>var_rating</th>\n",
       "    </tr>\n",
       "  </thead>\n",
       "  <tbody>\n",
       "    <tr>\n",
       "      <th>0</th>\n",
       "      <td>[6, 6, 6]</td>\n",
       "      <td>Accept (Poster)</td>\n",
       "      <td>On The Variance Of The Adaptive Learning Rate ...</td>\n",
       "      <td>6.0</td>\n",
       "      <td>0.0</td>\n",
       "    </tr>\n",
       "    <tr>\n",
       "      <th>1</th>\n",
       "      <td>[6, 6, 6]</td>\n",
       "      <td>Accept (Poster)</td>\n",
       "      <td>Emergent Systematic Generalization In A Situat...</td>\n",
       "      <td>6.0</td>\n",
       "      <td>0.0</td>\n",
       "    </tr>\n",
       "    <tr>\n",
       "      <th>2</th>\n",
       "      <td>[8, 8, 8]</td>\n",
       "      <td>Accept (Spotlight)</td>\n",
       "      <td>Sparse Coding With Gated Learned Ista</td>\n",
       "      <td>8.0</td>\n",
       "      <td>0.0</td>\n",
       "    </tr>\n",
       "  </tbody>\n",
       "</table>\n",
       "</div>"
      ],
      "text/plain": [
       "      rating            decision  \\\n",
       "0  [6, 6, 6]     Accept (Poster)   \n",
       "1  [6, 6, 6]     Accept (Poster)   \n",
       "2  [8, 8, 8]  Accept (Spotlight)   \n",
       "\n",
       "                                               title  mean_rating  var_rating  \n",
       "0  On The Variance Of The Adaptive Learning Rate ...          6.0         0.0  \n",
       "1  Emergent Systematic Generalization In A Situat...          6.0         0.0  \n",
       "2              Sparse Coding With Gated Learned Ista          8.0         0.0  "
      ]
     },
     "execution_count": 4,
     "metadata": {},
     "output_type": "execute_result"
    }
   ],
   "source": [
    "openreview_df.head(3)"
   ]
  },
  {
   "cell_type": "code",
   "execution_count": 5,
   "id": "9aae746f",
   "metadata": {},
   "outputs": [],
   "source": [
    "with open(scholar_path, \"r\") as f:\n",
    "    scholar_data = json.load(f)\n",
    "    \n",
    "openreview_df = utils.matching_openreview_googlescholar(scholar_data,\n",
    "                                                        openreview_df)"
   ]
  },
  {
   "cell_type": "code",
   "execution_count": 6,
   "id": "5f7d861e",
   "metadata": {},
   "outputs": [
    {
     "data": {
      "text/html": [
       "<div>\n",
       "<style scoped>\n",
       "    .dataframe tbody tr th:only-of-type {\n",
       "        vertical-align: middle;\n",
       "    }\n",
       "\n",
       "    .dataframe tbody tr th {\n",
       "        vertical-align: top;\n",
       "    }\n",
       "\n",
       "    .dataframe thead th {\n",
       "        text-align: right;\n",
       "    }\n",
       "</style>\n",
       "<table border=\"1\" class=\"dataframe\">\n",
       "  <thead>\n",
       "    <tr style=\"text-align: right;\">\n",
       "      <th></th>\n",
       "      <th>rating</th>\n",
       "      <th>decision</th>\n",
       "      <th>title</th>\n",
       "      <th>mean_rating</th>\n",
       "      <th>var_rating</th>\n",
       "      <th>citations</th>\n",
       "    </tr>\n",
       "  </thead>\n",
       "  <tbody>\n",
       "    <tr>\n",
       "      <th>0</th>\n",
       "      <td>[6, 6, 6]</td>\n",
       "      <td>Accept (Poster)</td>\n",
       "      <td>On The Variance Of The Adaptive Learning Rate ...</td>\n",
       "      <td>6.0</td>\n",
       "      <td>0.0</td>\n",
       "      <td>902.0</td>\n",
       "    </tr>\n",
       "    <tr>\n",
       "      <th>1</th>\n",
       "      <td>[6, 6, 6]</td>\n",
       "      <td>Accept (Poster)</td>\n",
       "      <td>Emergent Systematic Generalization In A Situat...</td>\n",
       "      <td>6.0</td>\n",
       "      <td>0.0</td>\n",
       "      <td>21.0</td>\n",
       "    </tr>\n",
       "    <tr>\n",
       "      <th>2</th>\n",
       "      <td>[8, 8, 8]</td>\n",
       "      <td>Accept (Spotlight)</td>\n",
       "      <td>Sparse Coding With Gated Learned Ista</td>\n",
       "      <td>8.0</td>\n",
       "      <td>0.0</td>\n",
       "      <td>29.0</td>\n",
       "    </tr>\n",
       "  </tbody>\n",
       "</table>\n",
       "</div>"
      ],
      "text/plain": [
       "      rating            decision  \\\n",
       "0  [6, 6, 6]     Accept (Poster)   \n",
       "1  [6, 6, 6]     Accept (Poster)   \n",
       "2  [8, 8, 8]  Accept (Spotlight)   \n",
       "\n",
       "                                               title  mean_rating  var_rating  \\\n",
       "0  On The Variance Of The Adaptive Learning Rate ...          6.0         0.0   \n",
       "1  Emergent Systematic Generalization In A Situat...          6.0         0.0   \n",
       "2              Sparse Coding With Gated Learned Ista          8.0         0.0   \n",
       "\n",
       "   citations  \n",
       "0      902.0  \n",
       "1       21.0  \n",
       "2       29.0  "
      ]
     },
     "execution_count": 6,
     "metadata": {},
     "output_type": "execute_result"
    }
   ],
   "source": [
    "openreview_df.head(3)"
   ]
  },
  {
   "cell_type": "markdown",
   "id": "49a83b74",
   "metadata": {},
   "source": [
    "### Loading pickle format openreview data"
   ]
  },
  {
   "cell_type": "code",
   "execution_count": 7,
   "id": "70ef8cc5",
   "metadata": {},
   "outputs": [],
   "source": [
    "openreview_path = \"./data/ICLR2018/openreview_iclr2018.pkl\"\n",
    "scholar_path = \"./data/ICLR2018/googlescholar_iclr2018_ver220424.json\""
   ]
  },
  {
   "cell_type": "code",
   "execution_count": 11,
   "id": "4e5b9e65",
   "metadata": {},
   "outputs": [],
   "source": [
    "with open(openreview_path, \"rb\") as f:\n",
    "    openreview_data = pkl.load(f)"
   ]
  },
  {
   "cell_type": "code",
   "execution_count": 14,
   "id": "03cd8469",
   "metadata": {},
   "outputs": [],
   "source": [
    "openreview_df = utils.parsing_openreview(openreview_data)"
   ]
  },
  {
   "cell_type": "code",
   "execution_count": 13,
   "id": "f965f757",
   "metadata": {},
   "outputs": [
    {
     "data": {
      "text/html": [
       "<div>\n",
       "<style scoped>\n",
       "    .dataframe tbody tr th:only-of-type {\n",
       "        vertical-align: middle;\n",
       "    }\n",
       "\n",
       "    .dataframe tbody tr th {\n",
       "        vertical-align: top;\n",
       "    }\n",
       "\n",
       "    .dataframe thead th {\n",
       "        text-align: right;\n",
       "    }\n",
       "</style>\n",
       "<table border=\"1\" class=\"dataframe\">\n",
       "  <thead>\n",
       "    <tr style=\"text-align: right;\">\n",
       "      <th></th>\n",
       "      <th>decision</th>\n",
       "      <th>title</th>\n",
       "      <th>authors</th>\n",
       "      <th>rating</th>\n",
       "    </tr>\n",
       "  </thead>\n",
       "  <tbody>\n",
       "    <tr>\n",
       "      <th>0</th>\n",
       "      <td>Accept (Oral)</td>\n",
       "      <td>Progressive Growing of GANs for Improved Quali...</td>\n",
       "      <td>[Tero Karras, Timo Aila, Samuli Laine, Jaakko ...</td>\n",
       "      <td>[8, 1, 8]</td>\n",
       "    </tr>\n",
       "    <tr>\n",
       "      <th>1</th>\n",
       "      <td>Accept (Poster)</td>\n",
       "      <td>Loss-aware Weight Quantization of Deep Networks</td>\n",
       "      <td>[Lu Hou, James T. Kwok]</td>\n",
       "      <td>[8, 6, 6]</td>\n",
       "    </tr>\n",
       "    <tr>\n",
       "      <th>2</th>\n",
       "      <td>Accept (Poster)</td>\n",
       "      <td>Deep Neural Networks as Gaussian Processes</td>\n",
       "      <td>[Jaehoon Lee, Yasaman Bahri, Roman Novak, Samu...</td>\n",
       "      <td>[4, 6, 7]</td>\n",
       "    </tr>\n",
       "  </tbody>\n",
       "</table>\n",
       "</div>"
      ],
      "text/plain": [
       "          decision                                              title  \\\n",
       "0    Accept (Oral)  Progressive Growing of GANs for Improved Quali...   \n",
       "1  Accept (Poster)    Loss-aware Weight Quantization of Deep Networks   \n",
       "2  Accept (Poster)         Deep Neural Networks as Gaussian Processes   \n",
       "\n",
       "                                             authors     rating  \n",
       "0  [Tero Karras, Timo Aila, Samuli Laine, Jaakko ...  [8, 1, 8]  \n",
       "1                            [Lu Hou, James T. Kwok]  [8, 6, 6]  \n",
       "2  [Jaehoon Lee, Yasaman Bahri, Roman Novak, Samu...  [4, 6, 7]  "
      ]
     },
     "execution_count": 13,
     "metadata": {},
     "output_type": "execute_result"
    }
   ],
   "source": [
    "openreview_df.head(3)"
   ]
  },
  {
   "cell_type": "code",
   "execution_count": 15,
   "id": "8e4b6135",
   "metadata": {},
   "outputs": [
    {
     "data": {
      "text/html": [
       "<div>\n",
       "<style scoped>\n",
       "    .dataframe tbody tr th:only-of-type {\n",
       "        vertical-align: middle;\n",
       "    }\n",
       "\n",
       "    .dataframe tbody tr th {\n",
       "        vertical-align: top;\n",
       "    }\n",
       "\n",
       "    .dataframe thead th {\n",
       "        text-align: right;\n",
       "    }\n",
       "</style>\n",
       "<table border=\"1\" class=\"dataframe\">\n",
       "  <thead>\n",
       "    <tr style=\"text-align: right;\">\n",
       "      <th></th>\n",
       "      <th>decision</th>\n",
       "      <th>title</th>\n",
       "      <th>authors</th>\n",
       "      <th>rating</th>\n",
       "      <th>citations</th>\n",
       "    </tr>\n",
       "  </thead>\n",
       "  <tbody>\n",
       "    <tr>\n",
       "      <th>0</th>\n",
       "      <td>Accept (Oral)</td>\n",
       "      <td>Progressive Growing of GANs for Improved Quali...</td>\n",
       "      <td>[Tero Karras, Timo Aila, Samuli Laine, Jaakko ...</td>\n",
       "      <td>[8, 1, 8]</td>\n",
       "      <td>4423.0</td>\n",
       "    </tr>\n",
       "    <tr>\n",
       "      <th>1</th>\n",
       "      <td>Accept (Poster)</td>\n",
       "      <td>Loss-aware Weight Quantization of Deep Networks</td>\n",
       "      <td>[Lu Hou, James T. Kwok]</td>\n",
       "      <td>[8, 6, 6]</td>\n",
       "      <td>103.0</td>\n",
       "    </tr>\n",
       "    <tr>\n",
       "      <th>2</th>\n",
       "      <td>Accept (Poster)</td>\n",
       "      <td>Deep Neural Networks as Gaussian Processes</td>\n",
       "      <td>[Jaehoon Lee, Yasaman Bahri, Roman Novak, Samu...</td>\n",
       "      <td>[4, 6, 7]</td>\n",
       "      <td>656.0</td>\n",
       "    </tr>\n",
       "  </tbody>\n",
       "</table>\n",
       "</div>"
      ],
      "text/plain": [
       "          decision                                              title  \\\n",
       "0    Accept (Oral)  Progressive Growing of GANs for Improved Quali...   \n",
       "1  Accept (Poster)    Loss-aware Weight Quantization of Deep Networks   \n",
       "2  Accept (Poster)         Deep Neural Networks as Gaussian Processes   \n",
       "\n",
       "                                             authors     rating  citations  \n",
       "0  [Tero Karras, Timo Aila, Samuli Laine, Jaakko ...  [8, 1, 8]     4423.0  \n",
       "1                            [Lu Hou, James T. Kwok]  [8, 6, 6]      103.0  \n",
       "2  [Jaehoon Lee, Yasaman Bahri, Roman Novak, Samu...  [4, 6, 7]      656.0  "
      ]
     },
     "execution_count": 15,
     "metadata": {},
     "output_type": "execute_result"
    }
   ],
   "source": [
    "with open(scholar_path, \"r\") as f:\n",
    "    scholar_data = json.load(f)\n",
    "    \n",
    "openreview_df = utils.matching_openreview_googlescholar(scholar_data,\n",
    "                                                        openreview_df)\n",
    "\n",
    "openreview_df.head(3)"
   ]
  },
  {
   "cell_type": "markdown",
   "id": "882036f1",
   "metadata": {},
   "source": [
    "### Loading merged tables"
   ]
  },
  {
   "cell_type": "code",
   "execution_count": 17,
   "id": "ecada234",
   "metadata": {},
   "outputs": [],
   "source": [
    "df_20 = pd.read_pickle(\"./data/ICLR2020/ICLR2020_preprocessed_table.pkl\")\n",
    "df_19 = pd.read_pickle(\"./data/ICLR2019/ICLR2019_preprocessed_table.pkl\")\n",
    "df_18 = pd.read_pickle(\"./data/ICLR2018/ICLR2018_preprocessed_table.pkl\")\n",
    "df_17 = pd.read_pickle(\"./data/ICLR2017/ICLR2017_preprocessed_table.pkl\")"
   ]
  },
  {
   "cell_type": "code",
   "execution_count": 18,
   "id": "28b328cc",
   "metadata": {},
   "outputs": [
    {
     "data": {
      "text/html": [
       "<div>\n",
       "<style scoped>\n",
       "    .dataframe tbody tr th:only-of-type {\n",
       "        vertical-align: middle;\n",
       "    }\n",
       "\n",
       "    .dataframe tbody tr th {\n",
       "        vertical-align: top;\n",
       "    }\n",
       "\n",
       "    .dataframe thead th {\n",
       "        text-align: right;\n",
       "    }\n",
       "</style>\n",
       "<table border=\"1\" class=\"dataframe\">\n",
       "  <thead>\n",
       "    <tr style=\"text-align: right;\">\n",
       "      <th></th>\n",
       "      <th>rating</th>\n",
       "      <th>decision</th>\n",
       "      <th>title</th>\n",
       "      <th>mean_rating</th>\n",
       "      <th>var_rating</th>\n",
       "      <th>citations</th>\n",
       "    </tr>\n",
       "  </thead>\n",
       "  <tbody>\n",
       "    <tr>\n",
       "      <th>0</th>\n",
       "      <td>[4, 9, 10, 7]</td>\n",
       "      <td>Accept (Poster)</td>\n",
       "      <td>Exploration By Random Network Distillation</td>\n",
       "      <td>7.500000</td>\n",
       "      <td>5.250000</td>\n",
       "      <td>607.0</td>\n",
       "    </tr>\n",
       "    <tr>\n",
       "      <th>1</th>\n",
       "      <td>[7, 6, 6]</td>\n",
       "      <td>Accept (Poster)</td>\n",
       "      <td>Generating Multi-agent Trajectories Using Prog...</td>\n",
       "      <td>6.333333</td>\n",
       "      <td>0.222222</td>\n",
       "      <td>42.0</td>\n",
       "    </tr>\n",
       "    <tr>\n",
       "      <th>2</th>\n",
       "      <td>[8, 6, 6]</td>\n",
       "      <td>Accept (Poster)</td>\n",
       "      <td>Stable Opponent Shaping In Differentiable Games</td>\n",
       "      <td>6.666667</td>\n",
       "      <td>0.888889</td>\n",
       "      <td>60.0</td>\n",
       "    </tr>\n",
       "  </tbody>\n",
       "</table>\n",
       "</div>"
      ],
      "text/plain": [
       "          rating         decision  \\\n",
       "0  [4, 9, 10, 7]  Accept (Poster)   \n",
       "1      [7, 6, 6]  Accept (Poster)   \n",
       "2      [8, 6, 6]  Accept (Poster)   \n",
       "\n",
       "                                               title  mean_rating  var_rating  \\\n",
       "0         Exploration By Random Network Distillation     7.500000    5.250000   \n",
       "1  Generating Multi-agent Trajectories Using Prog...     6.333333    0.222222   \n",
       "2    Stable Opponent Shaping In Differentiable Games     6.666667    0.888889   \n",
       "\n",
       "   citations  \n",
       "0      607.0  \n",
       "1       42.0  \n",
       "2       60.0  "
      ]
     },
     "execution_count": 18,
     "metadata": {},
     "output_type": "execute_result"
    }
   ],
   "source": [
    "df_19.head(3)"
   ]
  }
 ],
 "metadata": {
  "kernelspec": {
   "display_name": "Python 3",
   "language": "python",
   "name": "python3"
  },
  "language_info": {
   "codemirror_mode": {
    "name": "ipython",
    "version": 3
   },
   "file_extension": ".py",
   "mimetype": "text/x-python",
   "name": "python",
   "nbconvert_exporter": "python",
   "pygments_lexer": "ipython3",
   "version": "3.9.12"
  }
 },
 "nbformat": 4,
 "nbformat_minor": 5
}
