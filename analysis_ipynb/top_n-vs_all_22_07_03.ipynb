{
 "cells": [
  {
   "cell_type": "markdown",
   "id": "963c525b",
   "metadata": {},
   "source": [
    "## 생각들. \n",
    "* rating -> 리뷰어들의 생각만 들어감. decision -> 컨퍼런스 에디터들의 생각도 함께 들어감. 후자가 좀 더 큰 구분이니 이걸로 해보자. \n",
    "* 일단 분포 자체가 long-tailed라 대표값이 큰 의미가 있음.\n",
    "* 의미있는 대푯값을 발견해도, oral이라 더 \"광고\"되어 더 인용된 건지, 아니면 실제로 더 가치있는 논문이라 인용이 많은 것인지 모름.(후자겠지만)\n",
    "* 세부 분야(CV, graph, RL 등등)별로 표준화가 필요할텐데, 그게 잘 될지 모름. \n",
    "* 스타-논문들(인용수 수백 이상)만 정성적으로 살펴볼까?\n"
   ]
  },
  {
   "cell_type": "code",
   "execution_count": 1,
   "id": "100b955e",
   "metadata": {},
   "outputs": [],
   "source": [
    "import pandas as pd\n",
    "import sys\n",
    "sys.path.append(\"..\")\n",
    "import utils\n",
    "import glob\n",
    "import json\n",
    "import matplotlib.pyplot as plt\n",
    "import numpy as np\n",
    "from itertools import combinations "
   ]
  },
  {
   "cell_type": "code",
   "execution_count": 8,
   "id": "d304a590",
   "metadata": {},
   "outputs": [],
   "source": [
    "def get_binned_df_list(df, binning_list):\n",
    "    bin_range = binning_list[-1]\n",
    "    df_by_chunk = []\n",
    "    for bin_range in binning_list:\n",
    "        df_test = df.loc[(df.mean_rating >= bin_range[0]) & (df.mean_rating < bin_range[1])]\n",
    "        df_by_chunk.append(df_test)\n",
    "        \n",
    "    return df_by_chunk\n",
    "\n",
    "\n",
    "def df_preprocessing(df):\n",
    "    df[\"mean_rating\"] = [np.mean(rating) for rating in df.rating]\n",
    "    df[\"var_rating\"] = [np.var(rating) for rating in df.rating]\n",
    "    df[\"std_rating\"] = [np.std(rating) for rating in df.rating]\n",
    "    df[\"numer_of_ratings\"] = [len(r) for r in df.rating]\n",
    "    df = df.loc[df.numer_of_ratings > 1].reset_index(drop=True)\n",
    "\n",
    "    return df"
   ]
  },
  {
   "cell_type": "code",
   "execution_count": 11,
   "id": "3bf1f10b",
   "metadata": {},
   "outputs": [
    {
     "data": {
      "text/html": [
       "<div>\n",
       "<style scoped>\n",
       "    .dataframe tbody tr th:only-of-type {\n",
       "        vertical-align: middle;\n",
       "    }\n",
       "\n",
       "    .dataframe tbody tr th {\n",
       "        vertical-align: top;\n",
       "    }\n",
       "\n",
       "    .dataframe thead th {\n",
       "        text-align: right;\n",
       "    }\n",
       "</style>\n",
       "<table border=\"1\" class=\"dataframe\">\n",
       "  <thead>\n",
       "    <tr style=\"text-align: right;\">\n",
       "      <th></th>\n",
       "      <th>rating</th>\n",
       "      <th>decision</th>\n",
       "      <th>title</th>\n",
       "      <th>mean_rating</th>\n",
       "      <th>var_rating</th>\n",
       "      <th>citations</th>\n",
       "      <th>std_rating</th>\n",
       "      <th>numer_of_ratings</th>\n",
       "    </tr>\n",
       "  </thead>\n",
       "  <tbody>\n",
       "    <tr>\n",
       "      <th>0</th>\n",
       "      <td>[4, 9, 10, 7]</td>\n",
       "      <td>Accept (Poster)</td>\n",
       "      <td>Exploration By Random Network Distillation</td>\n",
       "      <td>7.500000</td>\n",
       "      <td>5.250000</td>\n",
       "      <td>607.0</td>\n",
       "      <td>2.291288</td>\n",
       "      <td>4</td>\n",
       "    </tr>\n",
       "    <tr>\n",
       "      <th>1</th>\n",
       "      <td>[7, 6, 6]</td>\n",
       "      <td>Accept (Poster)</td>\n",
       "      <td>Generating Multi-agent Trajectories Using Prog...</td>\n",
       "      <td>6.333333</td>\n",
       "      <td>0.222222</td>\n",
       "      <td>42.0</td>\n",
       "      <td>0.471405</td>\n",
       "      <td>3</td>\n",
       "    </tr>\n",
       "    <tr>\n",
       "      <th>2</th>\n",
       "      <td>[8, 6, 6]</td>\n",
       "      <td>Accept (Poster)</td>\n",
       "      <td>Stable Opponent Shaping In Differentiable Games</td>\n",
       "      <td>6.666667</td>\n",
       "      <td>0.888889</td>\n",
       "      <td>60.0</td>\n",
       "      <td>0.942809</td>\n",
       "      <td>3</td>\n",
       "    </tr>\n",
       "    <tr>\n",
       "      <th>3</th>\n",
       "      <td>[4, 7, 6]</td>\n",
       "      <td>Accept (Poster)</td>\n",
       "      <td>A Closer Look At Deep Learning Heuristics: Lea...</td>\n",
       "      <td>5.666667</td>\n",
       "      <td>1.555556</td>\n",
       "      <td>120.0</td>\n",
       "      <td>1.247219</td>\n",
       "      <td>3</td>\n",
       "    </tr>\n",
       "    <tr>\n",
       "      <th>4</th>\n",
       "      <td>[6, 6, 6]</td>\n",
       "      <td>Accept (Poster)</td>\n",
       "      <td>Feed-forward Propagation In Probabilistic Neur...</td>\n",
       "      <td>6.000000</td>\n",
       "      <td>0.000000</td>\n",
       "      <td>13.0</td>\n",
       "      <td>0.000000</td>\n",
       "      <td>3</td>\n",
       "    </tr>\n",
       "  </tbody>\n",
       "</table>\n",
       "</div>"
      ],
      "text/plain": [
       "          rating         decision  \\\n",
       "0  [4, 9, 10, 7]  Accept (Poster)   \n",
       "1      [7, 6, 6]  Accept (Poster)   \n",
       "2      [8, 6, 6]  Accept (Poster)   \n",
       "3      [4, 7, 6]  Accept (Poster)   \n",
       "4      [6, 6, 6]  Accept (Poster)   \n",
       "\n",
       "                                               title  mean_rating  var_rating  \\\n",
       "0         Exploration By Random Network Distillation     7.500000    5.250000   \n",
       "1  Generating Multi-agent Trajectories Using Prog...     6.333333    0.222222   \n",
       "2    Stable Opponent Shaping In Differentiable Games     6.666667    0.888889   \n",
       "3  A Closer Look At Deep Learning Heuristics: Lea...     5.666667    1.555556   \n",
       "4  Feed-forward Propagation In Probabilistic Neur...     6.000000    0.000000   \n",
       "\n",
       "   citations  std_rating  numer_of_ratings  \n",
       "0      607.0    2.291288                 4  \n",
       "1       42.0    0.471405                 3  \n",
       "2       60.0    0.942809                 3  \n",
       "3      120.0    1.247219                 3  \n",
       "4       13.0    0.000000                 3  "
      ]
     },
     "execution_count": 11,
     "metadata": {},
     "output_type": "execute_result"
    }
   ],
   "source": [
    "df_20 = pd.read_pickle(\"../data/ICLR2020/ICLR2020_preprocessed_table.pkl\")\n",
    "df_19 = pd.read_pickle(\"../data/ICLR2019/ICLR2019_preprocessed_table.pkl\")\n",
    "df_18 = pd.read_pickle(\"../data/ICLR2018/ICLR2018_preprocessed_table.pkl\")\n",
    "df_17 = pd.read_pickle(\"../data/ICLR2017/ICLR2017_preprocessed_table.pkl\")\n",
    "\n",
    "# calculating var&mean ratings, removing papers w/ num of ratings < 2\n",
    "dfs = {\"17\": df_preprocessing(df_17),\n",
    "       \"18\": df_preprocessing(df_18),\n",
    "       \"19\": df_preprocessing(df_19),\n",
    "       \"20\": df_preprocessing(df_20)}\n",
    "\n",
    "\n"
   ]
  },
  {
   "cell_type": "code",
   "execution_count": 102,
   "id": "e7f38924",
   "metadata": {},
   "outputs": [
    {
     "data": {
      "text/html": [
       "<div>\n",
       "<style scoped>\n",
       "    .dataframe tbody tr th:only-of-type {\n",
       "        vertical-align: middle;\n",
       "    }\n",
       "\n",
       "    .dataframe tbody tr th {\n",
       "        vertical-align: top;\n",
       "    }\n",
       "\n",
       "    .dataframe thead th {\n",
       "        text-align: right;\n",
       "    }\n",
       "</style>\n",
       "<table border=\"1\" class=\"dataframe\">\n",
       "  <thead>\n",
       "    <tr style=\"text-align: right;\">\n",
       "      <th></th>\n",
       "      <th>rating</th>\n",
       "      <th>decision</th>\n",
       "      <th>authors</th>\n",
       "      <th>title</th>\n",
       "      <th>mean_rating</th>\n",
       "      <th>var_rating</th>\n",
       "      <th>citations</th>\n",
       "      <th>std_rating</th>\n",
       "      <th>numer_of_ratings</th>\n",
       "    </tr>\n",
       "  </thead>\n",
       "  <tbody>\n",
       "    <tr>\n",
       "      <th>0</th>\n",
       "      <td>[6, 6, 6]</td>\n",
       "      <td>Accept (Poster)</td>\n",
       "      <td>b'Liyuan Liu#Haoming Jiang#Pengcheng He#Weizhu...</td>\n",
       "      <td>On The Variance Of The Adaptive Learning Rate ...</td>\n",
       "      <td>6.000000</td>\n",
       "      <td>0.000000</td>\n",
       "      <td>902.0</td>\n",
       "      <td>0.000000</td>\n",
       "      <td>3</td>\n",
       "    </tr>\n",
       "    <tr>\n",
       "      <th>1</th>\n",
       "      <td>[6, 6, 6]</td>\n",
       "      <td>Accept (Poster)</td>\n",
       "      <td>b'Felix Hill#Andrew Lampinen#Rosalia Schneider...</td>\n",
       "      <td>Emergent Systematic Generalization In A Situat...</td>\n",
       "      <td>6.000000</td>\n",
       "      <td>0.000000</td>\n",
       "      <td>21.0</td>\n",
       "      <td>0.000000</td>\n",
       "      <td>3</td>\n",
       "    </tr>\n",
       "    <tr>\n",
       "      <th>2</th>\n",
       "      <td>[8, 8, 8]</td>\n",
       "      <td>Accept (Spotlight)</td>\n",
       "      <td>b'Kailun Wu#Yiwen Guo#Ziang Li#Changshui Zhang'</td>\n",
       "      <td>Sparse Coding With Gated Learned Ista</td>\n",
       "      <td>8.000000</td>\n",
       "      <td>0.000000</td>\n",
       "      <td>29.0</td>\n",
       "      <td>0.000000</td>\n",
       "      <td>3</td>\n",
       "    </tr>\n",
       "    <tr>\n",
       "      <th>3</th>\n",
       "      <td>[8, 8, 8]</td>\n",
       "      <td>Accept (Talk)</td>\n",
       "      <td>b'Archit Sharma#Shixiang Gu#Sergey Levine#Vika...</td>\n",
       "      <td>Dynamics-aware Unsupervised Skill Discovery</td>\n",
       "      <td>8.000000</td>\n",
       "      <td>0.000000</td>\n",
       "      <td>4.0</td>\n",
       "      <td>0.000000</td>\n",
       "      <td>3</td>\n",
       "    </tr>\n",
       "    <tr>\n",
       "      <th>4</th>\n",
       "      <td>[6, 6, 6]</td>\n",
       "      <td>Accept (Poster)</td>\n",
       "      <td>b'Pawel Korus#Nasir Memon'</td>\n",
       "      <td>Quantifying The Cost Of Reliable Photo Authent...</td>\n",
       "      <td>6.000000</td>\n",
       "      <td>0.000000</td>\n",
       "      <td>0.0</td>\n",
       "      <td>0.000000</td>\n",
       "      <td>3</td>\n",
       "    </tr>\n",
       "    <tr>\n",
       "      <th>5</th>\n",
       "      <td>[8, 6, 6]</td>\n",
       "      <td>Accept (Spotlight)</td>\n",
       "      <td>b'Peter Sorrenson#Ullrich K\\xc3\\xb6the'</td>\n",
       "      <td>Disentanglement Through Nonlinear Ica With Gen...</td>\n",
       "      <td>6.666667</td>\n",
       "      <td>0.888889</td>\n",
       "      <td>56.0</td>\n",
       "      <td>0.942809</td>\n",
       "      <td>3</td>\n",
       "    </tr>\n",
       "    <tr>\n",
       "      <th>6</th>\n",
       "      <td>[8, 6, 6]</td>\n",
       "      <td>Accept (Poster)</td>\n",
       "      <td>b'Yunhan Jia#Yantao Lu#Junjie Shen#Qi Alfred C...</td>\n",
       "      <td>Fooling Detection Alone Is Not Enough: Adversa...</td>\n",
       "      <td>6.666667</td>\n",
       "      <td>0.888889</td>\n",
       "      <td>34.0</td>\n",
       "      <td>0.942809</td>\n",
       "      <td>3</td>\n",
       "    </tr>\n",
       "    <tr>\n",
       "      <th>7</th>\n",
       "      <td>[6, 6, 6]</td>\n",
       "      <td>Accept (Poster)</td>\n",
       "      <td>b'Andrew Lampinen#Sebastien Racaniere#Adam San...</td>\n",
       "      <td>Automated Curriculum Generation Through Setter...</td>\n",
       "      <td>6.000000</td>\n",
       "      <td>0.000000</td>\n",
       "      <td>22.0</td>\n",
       "      <td>0.000000</td>\n",
       "      <td>3</td>\n",
       "    </tr>\n",
       "  </tbody>\n",
       "</table>\n",
       "</div>"
      ],
      "text/plain": [
       "      rating            decision  \\\n",
       "0  [6, 6, 6]     Accept (Poster)   \n",
       "1  [6, 6, 6]     Accept (Poster)   \n",
       "2  [8, 8, 8]  Accept (Spotlight)   \n",
       "3  [8, 8, 8]       Accept (Talk)   \n",
       "4  [6, 6, 6]     Accept (Poster)   \n",
       "5  [8, 6, 6]  Accept (Spotlight)   \n",
       "6  [8, 6, 6]     Accept (Poster)   \n",
       "7  [6, 6, 6]     Accept (Poster)   \n",
       "\n",
       "                                             authors  \\\n",
       "0  b'Liyuan Liu#Haoming Jiang#Pengcheng He#Weizhu...   \n",
       "1  b'Felix Hill#Andrew Lampinen#Rosalia Schneider...   \n",
       "2    b'Kailun Wu#Yiwen Guo#Ziang Li#Changshui Zhang'   \n",
       "3  b'Archit Sharma#Shixiang Gu#Sergey Levine#Vika...   \n",
       "4                         b'Pawel Korus#Nasir Memon'   \n",
       "5            b'Peter Sorrenson#Ullrich K\\xc3\\xb6the'   \n",
       "6  b'Yunhan Jia#Yantao Lu#Junjie Shen#Qi Alfred C...   \n",
       "7  b'Andrew Lampinen#Sebastien Racaniere#Adam San...   \n",
       "\n",
       "                                               title  mean_rating  var_rating  \\\n",
       "0  On The Variance Of The Adaptive Learning Rate ...     6.000000    0.000000   \n",
       "1  Emergent Systematic Generalization In A Situat...     6.000000    0.000000   \n",
       "2              Sparse Coding With Gated Learned Ista     8.000000    0.000000   \n",
       "3        Dynamics-aware Unsupervised Skill Discovery     8.000000    0.000000   \n",
       "4  Quantifying The Cost Of Reliable Photo Authent...     6.000000    0.000000   \n",
       "5  Disentanglement Through Nonlinear Ica With Gen...     6.666667    0.888889   \n",
       "6  Fooling Detection Alone Is Not Enough: Adversa...     6.666667    0.888889   \n",
       "7  Automated Curriculum Generation Through Setter...     6.000000    0.000000   \n",
       "\n",
       "   citations  std_rating  numer_of_ratings  \n",
       "0      902.0    0.000000                 3  \n",
       "1       21.0    0.000000                 3  \n",
       "2       29.0    0.000000                 3  \n",
       "3        4.0    0.000000                 3  \n",
       "4        0.0    0.000000                 3  \n",
       "5       56.0    0.942809                 3  \n",
       "6       34.0    0.942809                 3  \n",
       "7       22.0    0.000000                 3  "
      ]
     },
     "execution_count": 102,
     "metadata": {},
     "output_type": "execute_result"
    }
   ],
   "source": [
    "dfs[\"20\"].head(8)"
   ]
  },
  {
   "cell_type": "code",
   "execution_count": 108,
   "id": "473f40dd",
   "metadata": {},
   "outputs": [
    {
     "data": {
      "image/png": "[encoded data removed]",
      "text/plain": [
       "<Figure size 432x288 with 1 Axes>"
      ]
     },
     "metadata": {
      "needs_background": "light"
     },
     "output_type": "display_data"
    }
   ],
   "source": [
    "test_df = dfs[\"20\"]\n",
    "poster_df = test_df.loc[(test_df.decision == 'Accept (Poster)') & (test_df.citations != 0)].reset_index()\n",
    "plt.scatter(poster_df.mean_rating, poster_df.citations, alpha=0.2)\n",
    "plt.yscale(\"log\")\n",
    "# TODO: pearson corr -> rating vs logged citation\n",
    "# log에 대한 당위성 서술해야함. "
   ]
  },
  {
   "cell_type": "code",
   "execution_count": 121,
   "id": "67b90013",
   "metadata": {
    "scrolled": true
   },
   "outputs": [
    {
     "data": {
      "image/png": "[encoded data removed]",
      "text/plain": [
       "<Figure size 432x288 with 1 Axes>"
      ]
     },
     "metadata": {
      "needs_background": "light"
     },
     "output_type": "display_data"
    },
    {
     "data": {
      "image/png": "[encoded data removed]",
      "text/plain": [
       "<Figure size 432x288 with 1 Axes>"
      ]
     },
     "metadata": {
      "needs_background": "light"
     },
     "output_type": "display_data"
    },
    {
     "data": {
      "image/png": "[encoded data removed]",
      "text/plain": [
       "<Figure size 432x288 with 1 Axes>"
      ]
     },
     "metadata": {
      "needs_background": "light"
     },
     "output_type": "display_data"
    },
    {
     "data": {
      "image/png": "[encoded data removed]",
      "text/plain": [
       "<Figure size 432x288 with 1 Axes>"
      ]
     },
     "metadata": {
      "needs_background": "light"
     },
     "output_type": "display_data"
    }
   ],
   "source": [
    "for year in [\"17\", \"18\", \"19\", \"20\"]:\n",
    "    test_df = dfs[year]\n",
    "    plt.scatter(test_df.mean_rating, test_df.citations, alpha=0.2)\n",
    "    plt.yscale(\"symlog\")\n",
    "    plt.title(year)\n",
    "    plt.xlim(2, 10)\n",
    "    plt.show()\n",
    "# poster_df = test_df.loc[(test_df.decision == 'Accept (Spotlight)')].reset_index()\n",
    "\n",
    "# TODO: pearson corr -> rating vs logged citation\n",
    "# log에 대한 당위성 서술해야함. "
   ]
  },
  {
   "cell_type": "code",
   "execution_count": 12,
   "id": "eae8eb19",
   "metadata": {},
   "outputs": [
    {
     "name": "stdout",
     "output_type": "stream",
     "text": [
      "17 ['Accept (Poster)' 'Invite to Workshop Track' 'Accept (Oral)']\n",
      "18 ['Accept (Oral)' 'Accept (Poster)' 'Invite to Workshop Track']\n",
      "19 ['Accept (Poster)' 'Accept (Oral)']\n",
      "20 ['Accept (Poster)' 'Accept (Spotlight)' 'Accept (Talk)']\n"
     ]
    }
   ],
   "source": [
    "for year, df in dfs.items():\n",
    "    print(year, df.decision.unique())\n"
   ]
  },
  {
   "cell_type": "code",
   "execution_count": 16,
   "id": "1bab20a3",
   "metadata": {},
   "outputs": [],
   "source": [
    "target_df = dfs[\"20\"]\n",
    "year = \"20\""
   ]
  },
  {
   "cell_type": "code",
   "execution_count": 37,
   "id": "16a960b7",
   "metadata": {},
   "outputs": [
    {
     "data": {
      "text/plain": [
       "<matplotlib.legend.Legend at 0x7fe8b92baee0>"
      ]
     },
     "execution_count": 37,
     "metadata": {},
     "output_type": "execute_result"
    },
    {
     "data": {
      "image/png": "[encoded data removed]",
      "text/plain": [
       "<Figure size 720x360 with 1 Axes>"
      ]
     },
     "metadata": {
      "needs_background": "light"
     },
     "output_type": "display_data"
    }
   ],
   "source": [
    "plt.figure(figsize=(10, 5))\n",
    "plt.title(\"accept\")\n",
    "for decision in target_df[\"decision\"].unique():\n",
    "    target_list = df.loc[df.decision == decision, \"mean_rating\"].to_list()\n",
    "    plt.hist(target_list,\n",
    "#              density=True,\n",
    "             bins=len(target_list) // 20,\n",
    "             alpha=0.5,\n",
    "             label=decision)\n",
    "plt.legend()"
   ]
  },
  {
   "cell_type": "markdown",
   "id": "16c567e0",
   "metadata": {},
   "source": [
    "## citation 상위 20%의 decision type을 보자"
   ]
  },
  {
   "cell_type": "code",
   "execution_count": 97,
   "id": "c636fd08",
   "metadata": {
    "scrolled": true
   },
   "outputs": [
    {
     "name": "stdout",
     "output_type": "stream",
     "text": [
      "#################\n",
      "## result 2020 ##\n",
      "#################\n",
      "\n",
      "top 40% citation boundary: 49\n",
      "top 20% citation boundary: 89\n",
      "top 10% citation boundary: 164\n",
      "\n",
      "\n",
      "whole paper counts by decisions\n",
      "{'Accept (Poster)': 532, 'Accept (Spotlight)': 107, 'Accept (Talk)': 48}\n",
      "\n",
      "top 40% paper counts by decisions\n",
      "{'Accept (Poster)': 198, 'Accept (Spotlight)': 50, 'Accept (Talk)': 26}\n",
      "\n",
      "top 20% paper counts by decisions\n",
      "{'Accept (Poster)': 95, 'Accept (Spotlight)': 29, 'Accept (Talk)': 13}\n",
      "\n",
      "top 10% paper counts by decisions\n",
      "{'Accept (Poster)': 48, 'Accept (Spotlight)': 14, 'Accept (Talk)': 6} \n",
      "\n",
      "\n",
      "\n",
      "Accept (Poster), top40 ratio: 0.372\n",
      "Accept (Spotlight), top40 ratio: 0.467\n",
      "Accept (Talk), top40 ratio: 0.542\n",
      "\n",
      "\n",
      "Accept (Poster), top20 ratio: 0.179\n",
      "Accept (Spotlight), top20 ratio: 0.271\n",
      "Accept (Talk), top20 ratio: 0.271\n",
      "\n",
      "\n",
      "Accept (Poster), top10 ratio: 0.09\n",
      "Accept (Spotlight), top10 ratio: 0.131\n",
      "Accept (Talk), top10 ratio: 0.125\n"
     ]
    }
   ],
   "source": [
    "\n",
    "def get_citaion_vs_decision_result(year, target_df):\n",
    "    print(f\"#################\\n## result 20{year} ##\\n#################\\n\")\n",
    "\n",
    "    sorted_df = target_df.sort_values(by=\"citations\", ascending=False).reset_index(drop=True)\n",
    "\n",
    "    df_top40 = sorted_df[:int(len(target_df)*0.4)].reset_index(drop=True)\n",
    "    df_top20 = sorted_df[:len(target_df) // 5].reset_index(drop=True)\n",
    "    df_top10 = sorted_df[:len(target_df) // 10].reset_index(drop=True)\n",
    "    boundary40 = df_top40.citations.to_list()[-1]\n",
    "    boundary20 = df_top20.citations.to_list()[-1]\n",
    "    boundary10 = df_top10.citations.to_list()[-1]\n",
    "\n",
    "    print(\"top 40% citation boundary:\", int(boundary40))\n",
    "    print(\"top 20% citation boundary:\", int(boundary20))\n",
    "    print(\"top 10% citation boundary:\", int(boundary10))\n",
    "    print(\"\\n\")    \n",
    "    decision_list = target_df.decision.unique()\n",
    "\n",
    "    whole_counts_by_decision = target_df.groupby(target_df.decision)[\"citations\"].count().to_dict()\n",
    "    top40_counts_by_decision = df_top40.groupby(df_top40.decision)[\"citations\"].count().to_dict()\n",
    "    top20_counts_by_decision = df_top20.groupby(df_top20.decision)[\"citations\"].count().to_dict()\n",
    "    top10_counts_by_decision = df_top10.groupby(df_top10.decision)[\"citations\"].count().to_dict()\n",
    "\n",
    "    print(\"whole paper counts by decisions\")\n",
    "    print(whole_counts_by_decision)\n",
    "    print(\"\\ntop 40% paper counts by decisions\")\n",
    "    print(top40_counts_by_decision)\n",
    "    print(\"\\ntop 20% paper counts by decisions\")\n",
    "    print(top20_counts_by_decision)\n",
    "    print(\"\\ntop 10% paper counts by decisions\")\n",
    "    print(top10_counts_by_decision, \"\\n\")\n",
    "\n",
    "\n",
    "    print(\"\\n\")    \n",
    "    for decision in decision_list:\n",
    "        ratio = top40_counts_by_decision[decision] / whole_counts_by_decision[decision]\n",
    "        print(f\"{decision}, top40 ratio: {round(ratio, 3)}\")\n",
    "\n",
    "    print(\"\\n\")\n",
    "    for decision in decision_list:\n",
    "        ratio = top20_counts_by_decision[decision] / whole_counts_by_decision[decision]\n",
    "        print(f\"{decision}, top20 ratio: {round(ratio, 3)}\")\n",
    "\n",
    "    print(\"\\n\")\n",
    "    for decision in decision_list:\n",
    "        ratio = top10_counts_by_decision[decision] / whole_counts_by_decision[decision]\n",
    "        print(f\"{decision}, top10 ratio: {round(ratio, 3)}\")\n",
    "\n",
    "    \n",
    "################    \n",
    "#### figure ####\n",
    "################\n",
    "\n",
    "# plt.figure(figsize=(10, 5))\n",
    "\n",
    "# plt.title(\"Rating historgram by decisions\")\n",
    "# for decision in target_df[\"decision\"].unique():\n",
    "#     target_list = df.loc[df.decision == decision, \"mean_rating\"].to_list()\n",
    "#     plt.hist(target_list,\n",
    "# #              density=True,\n",
    "#              bins=len(target_list) // 20,\n",
    "#              alpha=0.5,\n",
    "#              label=decision)\n",
    "# plt.legend()\n",
    "\n",
    "# plt.show()\n",
    "\n",
    "# target_df = dfs[\"20\"]\n",
    "year = \"20\"\n",
    "get_citaion_vs_decision_result(year, dfs[year])"
   ]
  },
  {
   "cell_type": "code",
   "execution_count": 98,
   "id": "7109a121",
   "metadata": {
    "scrolled": true
   },
   "outputs": [
    {
     "name": "stdout",
     "output_type": "stream",
     "text": [
      "#################\n",
      "## result 2019 ##\n",
      "#################\n",
      "\n",
      "top 40% citation boundary: 80\n",
      "top 20% citation boundary: 150\n",
      "top 10% citation boundary: 295\n",
      "\n",
      "\n",
      "whole paper counts by decisions\n",
      "{'Accept (Oral)': 24, 'Accept (Poster)': 478}\n",
      "\n",
      "top 40% paper counts by decisions\n",
      "{'Accept (Oral)': 17, 'Accept (Poster)': 183}\n",
      "\n",
      "top 20% paper counts by decisions\n",
      "{'Accept (Oral)': 12, 'Accept (Poster)': 88}\n",
      "\n",
      "top 10% paper counts by decisions\n",
      "{'Accept (Oral)': 8, 'Accept (Poster)': 42} \n",
      "\n",
      "\n",
      "\n",
      "Accept (Poster), top40 ratio: 0.383\n",
      "Accept (Oral), top40 ratio: 0.708\n",
      "\n",
      "\n",
      "Accept (Poster), top20 ratio: 0.184\n",
      "Accept (Oral), top20 ratio: 0.5\n",
      "\n",
      "\n",
      "Accept (Poster), top10 ratio: 0.088\n",
      "Accept (Oral), top10 ratio: 0.333\n"
     ]
    }
   ],
   "source": [
    "year = \"19\"\n",
    "get_citaion_vs_decision_result(year, dfs[year])"
   ]
  },
  {
   "cell_type": "code",
   "execution_count": 99,
   "id": "f31ec839",
   "metadata": {
    "scrolled": true
   },
   "outputs": [
    {
     "name": "stdout",
     "output_type": "stream",
     "text": [
      "#################\n",
      "## result 2018 ##\n",
      "#################\n",
      "\n",
      "top 40% citation boundary: 147\n",
      "top 20% citation boundary: 341\n",
      "top 10% citation boundary: 648\n",
      "\n",
      "\n",
      "whole paper counts by decisions\n",
      "{'Accept (Oral)': 23, 'Accept (Poster)': 313, 'Invite to Workshop Track': 89}\n",
      "\n",
      "top 40% paper counts by decisions\n",
      "{'Accept (Oral)': 16, 'Accept (Poster)': 135, 'Invite to Workshop Track': 19}\n",
      "\n",
      "top 20% paper counts by decisions\n",
      "{'Accept (Oral)': 10, 'Accept (Poster)': 67, 'Invite to Workshop Track': 8}\n",
      "\n",
      "top 10% paper counts by decisions\n",
      "{'Accept (Oral)': 4, 'Accept (Poster)': 32, 'Invite to Workshop Track': 6} \n",
      "\n",
      "\n",
      "\n",
      "Accept (Oral), top40 ratio: 0.696\n",
      "Accept (Poster), top40 ratio: 0.431\n",
      "Invite to Workshop Track, top40 ratio: 0.213\n",
      "\n",
      "\n",
      "Accept (Oral), top20 ratio: 0.435\n",
      "Accept (Poster), top20 ratio: 0.214\n",
      "Invite to Workshop Track, top20 ratio: 0.09\n",
      "\n",
      "\n",
      "Accept (Oral), top10 ratio: 0.174\n",
      "Accept (Poster), top10 ratio: 0.102\n",
      "Invite to Workshop Track, top10 ratio: 0.067\n"
     ]
    }
   ],
   "source": [
    "year = \"18\"\n",
    "get_citaion_vs_decision_result(year, dfs[year])"
   ]
  },
  {
   "cell_type": "code",
   "execution_count": 100,
   "id": "a3d22914",
   "metadata": {
    "scrolled": true
   },
   "outputs": [
    {
     "name": "stdout",
     "output_type": "stream",
     "text": [
      "#################\n",
      "## result 2017 ##\n",
      "#################\n",
      "\n",
      "top 40% citation boundary: 241\n",
      "top 20% citation boundary: 617\n",
      "top 10% citation boundary: 1171\n",
      "\n",
      "\n",
      "whole paper counts by decisions\n",
      "{'Accept (Oral)': 15, 'Accept (Poster)': 183, 'Invite to Workshop Track': 47}\n",
      "\n",
      "top 40% paper counts by decisions\n",
      "{'Accept (Oral)': 13, 'Accept (Poster)': 80, 'Invite to Workshop Track': 5}\n",
      "\n",
      "top 20% paper counts by decisions\n",
      "{'Accept (Oral)': 9, 'Accept (Poster)': 39, 'Invite to Workshop Track': 1}\n",
      "\n",
      "top 10% paper counts by decisions\n",
      "{'Accept (Oral)': 5, 'Accept (Poster)': 18, 'Invite to Workshop Track': 1} \n",
      "\n",
      "\n",
      "\n",
      "Accept (Poster), top40 ratio: 0.437\n",
      "Invite to Workshop Track, top40 ratio: 0.106\n",
      "Accept (Oral), top40 ratio: 0.867\n",
      "\n",
      "\n",
      "Accept (Poster), top20 ratio: 0.213\n",
      "Invite to Workshop Track, top20 ratio: 0.021\n",
      "Accept (Oral), top20 ratio: 0.6\n",
      "\n",
      "\n",
      "Accept (Poster), top10 ratio: 0.098\n",
      "Invite to Workshop Track, top10 ratio: 0.021\n",
      "Accept (Oral), top10 ratio: 0.333\n"
     ]
    }
   ],
   "source": [
    "year = \"17\"\n",
    "get_citaion_vs_decision_result(year, dfs[year])"
   ]
  },
  {
   "cell_type": "markdown",
   "id": "b561fbdd",
   "metadata": {},
   "source": [
    "### 작은 결과: Citation top 10/20/40% 논문들과 전체 논문들을 비교했을 때, poster보다 spotlight, oral 논문들이 top10/20/40%에 들어갈 확률이 더 높다. \n",
    "### 한계: \n",
    "* 세부 분야별로 citation수가 다른데, 이를 컨트롤하지 못함. \n",
    "* statistical power쪽 생각 안함. \n",
    "* oral accepted 연구의 경우 실제로 홍보가 더 잘 되었을 것. \n",
    "\n",
    "### 질문:\n",
    "* invited to workshop -> 이건 accepted로 처리해야 하나?\n"
   ]
  },
  {
   "cell_type": "markdown",
   "id": "351d5554",
   "metadata": {},
   "source": [
    "## 이제 variance를 보자. "
   ]
  },
  {
   "cell_type": "code",
   "execution_count": null,
   "id": "5c78e5c7",
   "metadata": {},
   "outputs": [],
   "source": []
  }
 ],
 "metadata": {
  "kernelspec": {
   "display_name": "Python 3",
   "language": "python",
   "name": "python3"
  },
  "language_info": {
   "codemirror_mode": {
    "name": "ipython",
    "version": 3
   },
   "file_extension": ".py",
   "mimetype": "text/x-python",
   "name": "python",
   "nbconvert_exporter": "python",
   "pygments_lexer": "ipython3",
   "version": "3.9.12"
  }
 },
 "nbformat": 4,
 "nbformat_minor": 5
}
