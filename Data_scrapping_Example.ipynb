{
 "cells": [
  {
   "cell_type": "code",
   "execution_count": 1,
   "id": "ed91858b",
   "metadata": {},
   "outputs": [],
   "source": [
    "import utils"
   ]
  },
  {
   "cell_type": "code",
   "execution_count": null,
   "id": "018ef02c",
   "metadata": {},
   "outputs": [
    {
     "name": "stderr",
     "output_type": "stream",
     "text": [
      "  1%|          | 10/911 [00:06<10:02,  1.49it/s]"
     ]
    }
   ],
   "source": [
    "invitation = 'ICLR.cc/2018/Conference/-/Blind_Submission'\n",
    "all_data = utils.get_openreview_data(invitation)"
   ]
  },
  {
   "cell_type": "code",
   "execution_count": null,
   "id": "872435f1",
   "metadata": {},
   "outputs": [],
   "source": [
    "df = utils.parsing_openreview(all_data)"
   ]
  },
  {
   "cell_type": "code",
   "execution_count": null,
   "id": "7649ba87",
   "metadata": {},
   "outputs": [],
   "source": [
    "citation_raw = utils.get_paperinfo_from_google_scholar(df.title, apikey=\"Your Proxy API key\")"
   ]
  },
  {
   "cell_type": "code",
   "execution_count": null,
   "id": "0176dc3d",
   "metadata": {},
   "outputs": [],
   "source": [
    "df = utils.matching_openreview_googlescholar(citation_raw, df)"
   ]
  }
 ],
 "metadata": {
  "kernelspec": {
   "display_name": "Python 3",
   "language": "python",
   "name": "python3"
  },
  "language_info": {
   "codemirror_mode": {
    "name": "ipython",
    "version": 3
   },
   "file_extension": ".py",
   "mimetype": "text/x-python",
   "name": "python",
   "nbconvert_exporter": "python",
   "pygments_lexer": "ipython3",
   "version": "3.9.12"
  }
 },
 "nbformat": 4,
 "nbformat_minor": 5
}
