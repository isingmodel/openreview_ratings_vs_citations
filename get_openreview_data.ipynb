{
 "cells": [
  {
   "cell_type": "code",
   "execution_count": 143,
   "id": "c7ad3084",
   "metadata": {},
   "outputs": [],
   "source": [
    "import openreview\n",
    "from collections import defaultdict\n",
    "from tqdm import tqdm"
   ]
  },
  {
   "cell_type": "code",
   "execution_count": 119,
   "id": "707327b5",
   "metadata": {},
   "outputs": [],
   "source": [
    "base_url = 'https://api.openreview.net'\n",
    "c = openreview.Client(baseurl=base_url)"
   ]
  },
  {
   "cell_type": "markdown",
   "id": "1b59d4b2",
   "metadata": {},
   "source": [
    "## Trial1"
   ]
  },
  {
   "cell_type": "code",
   "execution_count": 120,
   "id": "96100f8b",
   "metadata": {},
   "outputs": [],
   "source": [
    "review_url = 'ICLR.cc/2018/Conference/-/Paper.*/Official_Review'\n",
    "allreviews = defaultdict(list)\n",
    "review_iterator = openreview.tools.iterget_notes(c,\n",
    "                                                 invitation=review_url)\n",
    "for review in review_iterator:\n",
    "    allreviews[review.forum].append(review.content['rating'])"
   ]
  },
  {
   "cell_type": "code",
   "execution_count": 121,
   "id": "938f9c6d",
   "metadata": {},
   "outputs": [],
   "source": [
    "paperinfo_url = 'ICLR.cc/2018/Conference/-/Blind_Submission'    \n",
    "blind_notes = {note.id: note for note in openreview.tools.iterget_notes(c,\n",
    "                                                                    invitation = paperinfo_url)}\n",
    "\n",
    "# withdrawn_url = 'ICLR.cc/2018/Conference/-/Withdrawn_Submission'    \n",
    "# blind_notes.update({note.id: note for note in openreview.tools.iterget_notes(c,\n",
    "#                                                                     invitation = withdrawn_url)})"
   ]
  },
  {
   "cell_type": "code",
   "execution_count": 65,
   "id": "43940a5b",
   "metadata": {
    "scrolled": true
   },
   "outputs": [
    {
     "name": "stdout",
     "output_type": "stream",
     "text": [
      "74\n"
     ]
    }
   ],
   "source": [
    "allratings = defaultdict(list)\n",
    "count = 0\n",
    "for forum, ratings in allreviews.items():\n",
    "    try:\n",
    "        paper_name = blind_notes[forum].content['title']\n",
    "        allratings[paper_name] = ratings\n",
    "    except:\n",
    "#         print(forum)\n",
    "        count += 1\n",
    "print(count)"
   ]
  },
  {
   "cell_type": "markdown",
   "id": "f1273c5c",
   "metadata": {},
   "source": [
    "## Trial2: Success : ICLR2018"
   ]
  },
  {
   "cell_type": "code",
   "execution_count": 163,
   "id": "aa4800a8",
   "metadata": {
    "scrolled": true
   },
   "outputs": [],
   "source": [
    "blind_notes = [note for note in openreview.tools.iterget_notes(c,\n",
    "                                                               invitation = 'ICLR.cc/2018/Conference/-/Blind_Submission',\n",
    "                                                               details='original')]\n",
    "forum_list = set([h.forum for h in blind_notes])"
   ]
  },
  {
   "cell_type": "code",
   "execution_count": 144,
   "id": "994d21e4",
   "metadata": {},
   "outputs": [
    {
     "name": "stderr",
     "output_type": "stream",
     "text": [
      "100%|████████████████████████████████████████████████████████████████████████████████████████████████████████████████████████████████████████████| 911/911 [09:36<00:00,  1.58it/s]\n"
     ]
    }
   ],
   "source": [
    "all_data = []\n",
    "for forum in tqdm(forum_list):\n",
    "    forum_comments = c.get_notes(forum=forum)\n",
    "    all_data.append(forum_comments)"
   ]
  },
  {
   "cell_type": "code",
   "execution_count": 158,
   "id": "884622fe",
   "metadata": {},
   "outputs": [],
   "source": [
    "import pickle as pkl\n",
    "with open(\"./all_data_iclr_2018.pkl\", 'wb') as f:\n",
    "    pkl.dump(all_data, f)\n",
    "    "
   ]
  },
  {
   "cell_type": "markdown",
   "id": "ed8c2efa",
   "metadata": {},
   "source": [
    "## ICLR 2017"
   ]
  },
  {
   "cell_type": "code",
   "execution_count": 169,
   "id": "e20a86b0",
   "metadata": {},
   "outputs": [],
   "source": [
    "blind_notes = [note for note in openreview.tools.iterget_notes(c,\n",
    "                                                               invitation = 'ICLR.cc/2017/conference/-/submission',\n",
    "                                                               details='original')]\n",
    "forum_list = set([h.forum for h in blind_notes])"
   ]
  },
  {
   "cell_type": "code",
   "execution_count": 171,
   "id": "51a2ff02",
   "metadata": {},
   "outputs": [
    {
     "name": "stderr",
     "output_type": "stream",
     "text": [
      "100%|████████████████████████████████████████████████████████████████████████████████████████████████████████████████████████████████████████████| 490/490 [05:15<00:00,  1.55it/s]\n"
     ]
    }
   ],
   "source": [
    "all_data = []\n",
    "for forum in tqdm(forum_list):\n",
    "    forum_comments = c.get_notes(forum=forum)\n",
    "    all_data.append(forum_comments)"
   ]
  },
  {
   "cell_type": "code",
   "execution_count": 172,
   "id": "1647e1d1",
   "metadata": {},
   "outputs": [],
   "source": [
    "import pickle as pkl\n",
    "with open(\"./all_data_iclr_2017.pkl\", 'wb') as f:\n",
    "    pkl.dump(all_data, f)\n",
    "    "
   ]
  },
  {
   "cell_type": "code",
   "execution_count": null,
   "id": "b62a7581",
   "metadata": {},
   "outputs": [],
   "source": []
  }
 ],
 "metadata": {
  "kernelspec": {
   "display_name": "Python 3 (ipykernel)",
   "language": "python",
   "name": "python3"
  },
  "language_info": {
   "codemirror_mode": {
    "name": "ipython",
    "version": 3
   },
   "file_extension": ".py",
   "mimetype": "text/x-python",
   "name": "python",
   "nbconvert_exporter": "python",
   "pygments_lexer": "ipython3",
   "version": "3.8.10"
  }
 },
 "nbformat": 4,
 "nbformat_minor": 5
}
